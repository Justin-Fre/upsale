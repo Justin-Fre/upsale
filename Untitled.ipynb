{
 "cells": [
  {
   "cell_type": "markdown",
   "id": "bf2146c0-42e1-4af9-8775-6dc2cc07f62e",
   "metadata": {},
   "source": [
    "# 1. Business problem"
   ]
  },
  {
   "cell_type": "raw",
   "id": "9a249ea4-29fb-4ab8-a0e8-ac9d2fed1000",
   "metadata": {},
   "source": [
    "About this file\n",
    "\n",
    "Add Suggestion\n",
    "This dataset provides information on customer spending habits, product categories, geographical locations, and revenue generated from sales\n",
    "\n",
    "Date: Date of the sale. (Date)\n",
    "Year: Year of the sale. (Integer)\n",
    "Month: Month of the sale. (Integer)\n",
    "Customer Age: Age of the customer. (Integer)\n",
    "Customer Gender: Gender of the customer. (String)\n",
    "Country: Country of the customer. (String)\n",
    "State: State of the customer. (String)\n",
    "Product Category: Category of the product. (String)\n",
    "Sub Category: Sub-category of the product. (String)\n",
    "Quantity: Quantity of the product sold/purchased. (Integer)\n",
    "Unit Cost: Cost of the product per unit. (Float)\n",
    "Unit Cost: Cost of the product per unit. (Float)\n",
    "Unit Price: Price of the product per unit. (Float)\n",
    "Revenue: Total revenue generated from the sale. (Float)\n",
    "Column1: Unknown. (Unknown)"
   ]
  },
  {
   "cell_type": "markdown",
   "id": "d3f26a7f-ed4d-4594-baba-8cadfa28bf19",
   "metadata": {},
   "source": [
    "# 2. Load data"
   ]
  },
  {
   "cell_type": "markdown",
   "id": "2dd41879-0eb0-4a2c-b36d-1e33f0a04c0e",
   "metadata": {},
   "source": [
    "## 2.1. Input data"
   ]
  },
  {
   "cell_type": "code",
   "execution_count": 4,
   "id": "011ee59c",
   "metadata": {},
   "outputs": [
    {
     "name": "stdout",
     "output_type": "stream",
     "text": [
      "Collecting seaborn\n",
      "  Using cached seaborn-0.13.2-py3-none-any.whl.metadata (5.4 kB)\n",
      "Requirement already satisfied: numpy!=1.24.0,>=1.20 in /Library/Frameworks/Python.framework/Versions/3.12/lib/python3.12/site-packages (from seaborn) (2.1.0)\n",
      "Collecting pandas>=1.2 (from seaborn)\n",
      "  Using cached pandas-2.2.2-cp312-cp312-macosx_10_9_x86_64.whl.metadata (19 kB)\n",
      "Requirement already satisfied: matplotlib!=3.6.1,>=3.4 in /Library/Frameworks/Python.framework/Versions/3.12/lib/python3.12/site-packages (from seaborn) (3.9.2)\n",
      "Requirement already satisfied: contourpy>=1.0.1 in /Library/Frameworks/Python.framework/Versions/3.12/lib/python3.12/site-packages (from matplotlib!=3.6.1,>=3.4->seaborn) (1.3.0)\n",
      "Requirement already satisfied: cycler>=0.10 in /Library/Frameworks/Python.framework/Versions/3.12/lib/python3.12/site-packages (from matplotlib!=3.6.1,>=3.4->seaborn) (0.12.1)\n",
      "Requirement already satisfied: fonttools>=4.22.0 in /Library/Frameworks/Python.framework/Versions/3.12/lib/python3.12/site-packages (from matplotlib!=3.6.1,>=3.4->seaborn) (4.53.1)\n",
      "Requirement already satisfied: kiwisolver>=1.3.1 in /Library/Frameworks/Python.framework/Versions/3.12/lib/python3.12/site-packages (from matplotlib!=3.6.1,>=3.4->seaborn) (1.4.5)\n",
      "Requirement already satisfied: packaging>=20.0 in /Users/mac/Library/Python/3.12/lib/python/site-packages (from matplotlib!=3.6.1,>=3.4->seaborn) (24.1)\n",
      "Requirement already satisfied: pillow>=8 in /Library/Frameworks/Python.framework/Versions/3.12/lib/python3.12/site-packages (from matplotlib!=3.6.1,>=3.4->seaborn) (10.4.0)\n",
      "Requirement already satisfied: pyparsing>=2.3.1 in /Library/Frameworks/Python.framework/Versions/3.12/lib/python3.12/site-packages (from matplotlib!=3.6.1,>=3.4->seaborn) (3.1.4)\n",
      "Requirement already satisfied: python-dateutil>=2.7 in /Users/mac/Library/Python/3.12/lib/python/site-packages (from matplotlib!=3.6.1,>=3.4->seaborn) (2.9.0.post0)\n",
      "Collecting pytz>=2020.1 (from pandas>=1.2->seaborn)\n",
      "  Using cached pytz-2024.1-py2.py3-none-any.whl.metadata (22 kB)\n",
      "Collecting tzdata>=2022.7 (from pandas>=1.2->seaborn)\n",
      "  Using cached tzdata-2024.1-py2.py3-none-any.whl.metadata (1.4 kB)\n",
      "Requirement already satisfied: six>=1.5 in /Users/mac/Library/Python/3.12/lib/python/site-packages (from python-dateutil>=2.7->matplotlib!=3.6.1,>=3.4->seaborn) (1.16.0)\n",
      "Using cached seaborn-0.13.2-py3-none-any.whl (294 kB)\n",
      "Using cached pandas-2.2.2-cp312-cp312-macosx_10_9_x86_64.whl (12.5 MB)\n",
      "Using cached pytz-2024.1-py2.py3-none-any.whl (505 kB)\n",
      "Using cached tzdata-2024.1-py2.py3-none-any.whl (345 kB)\n",
      "Installing collected packages: pytz, tzdata, pandas, seaborn\n",
      "Successfully installed pandas-2.2.2 pytz-2024.1 seaborn-0.13.2 tzdata-2024.1\n",
      "Note: you may need to restart the kernel to use updated packages.\n"
     ]
    }
   ],
   "source": [
    "pip install  seaborn"
   ]
  },
  {
   "cell_type": "code",
   "execution_count": 5,
   "id": "51525a18-fb98-42eb-9e0d-3f3ed48a848d",
   "metadata": {},
   "outputs": [
    {
     "data": {
      "text/html": [
       "<div>\n",
       "<style scoped>\n",
       "    .dataframe tbody tr th:only-of-type {\n",
       "        vertical-align: middle;\n",
       "    }\n",
       "\n",
       "    .dataframe tbody tr th {\n",
       "        vertical-align: top;\n",
       "    }\n",
       "\n",
       "    .dataframe thead th {\n",
       "        text-align: right;\n",
       "    }\n",
       "</style>\n",
       "<table border=\"1\" class=\"dataframe\">\n",
       "  <thead>\n",
       "    <tr style=\"text-align: right;\">\n",
       "      <th></th>\n",
       "      <th>index</th>\n",
       "      <th>Date</th>\n",
       "      <th>Year</th>\n",
       "      <th>Month</th>\n",
       "      <th>Customer Age</th>\n",
       "      <th>Customer Gender</th>\n",
       "      <th>Country</th>\n",
       "      <th>State</th>\n",
       "      <th>Product Category</th>\n",
       "      <th>Sub Category</th>\n",
       "      <th>Quantity</th>\n",
       "      <th>Unit Cost</th>\n",
       "      <th>Unit Price</th>\n",
       "      <th>Cost</th>\n",
       "      <th>Revenue</th>\n",
       "    </tr>\n",
       "  </thead>\n",
       "  <tbody>\n",
       "    <tr>\n",
       "      <th>0</th>\n",
       "      <td>0</td>\n",
       "      <td>2/19/16</td>\n",
       "      <td>2016.0</td>\n",
       "      <td>February</td>\n",
       "      <td>29.0</td>\n",
       "      <td>F</td>\n",
       "      <td>United States</td>\n",
       "      <td>Washington</td>\n",
       "      <td>Accessories</td>\n",
       "      <td>Tires and Tubes</td>\n",
       "      <td>1.0</td>\n",
       "      <td>80.00</td>\n",
       "      <td>109.000000</td>\n",
       "      <td>80.0</td>\n",
       "      <td>109.0</td>\n",
       "    </tr>\n",
       "    <tr>\n",
       "      <th>1</th>\n",
       "      <td>1</td>\n",
       "      <td>2/20/16</td>\n",
       "      <td>2016.0</td>\n",
       "      <td>February</td>\n",
       "      <td>29.0</td>\n",
       "      <td>F</td>\n",
       "      <td>United States</td>\n",
       "      <td>Washington</td>\n",
       "      <td>Clothing</td>\n",
       "      <td>Gloves</td>\n",
       "      <td>2.0</td>\n",
       "      <td>24.50</td>\n",
       "      <td>28.500000</td>\n",
       "      <td>49.0</td>\n",
       "      <td>57.0</td>\n",
       "    </tr>\n",
       "    <tr>\n",
       "      <th>2</th>\n",
       "      <td>2</td>\n",
       "      <td>2/27/16</td>\n",
       "      <td>2016.0</td>\n",
       "      <td>February</td>\n",
       "      <td>29.0</td>\n",
       "      <td>F</td>\n",
       "      <td>United States</td>\n",
       "      <td>Washington</td>\n",
       "      <td>Accessories</td>\n",
       "      <td>Tires and Tubes</td>\n",
       "      <td>3.0</td>\n",
       "      <td>3.67</td>\n",
       "      <td>5.000000</td>\n",
       "      <td>11.0</td>\n",
       "      <td>15.0</td>\n",
       "    </tr>\n",
       "    <tr>\n",
       "      <th>3</th>\n",
       "      <td>3</td>\n",
       "      <td>3/12/16</td>\n",
       "      <td>2016.0</td>\n",
       "      <td>March</td>\n",
       "      <td>29.0</td>\n",
       "      <td>F</td>\n",
       "      <td>United States</td>\n",
       "      <td>Washington</td>\n",
       "      <td>Accessories</td>\n",
       "      <td>Tires and Tubes</td>\n",
       "      <td>2.0</td>\n",
       "      <td>87.50</td>\n",
       "      <td>116.500000</td>\n",
       "      <td>175.0</td>\n",
       "      <td>233.0</td>\n",
       "    </tr>\n",
       "    <tr>\n",
       "      <th>4</th>\n",
       "      <td>4</td>\n",
       "      <td>3/12/16</td>\n",
       "      <td>2016.0</td>\n",
       "      <td>March</td>\n",
       "      <td>29.0</td>\n",
       "      <td>F</td>\n",
       "      <td>United States</td>\n",
       "      <td>Washington</td>\n",
       "      <td>Accessories</td>\n",
       "      <td>Tires and Tubes</td>\n",
       "      <td>3.0</td>\n",
       "      <td>35.00</td>\n",
       "      <td>41.666667</td>\n",
       "      <td>105.0</td>\n",
       "      <td>125.0</td>\n",
       "    </tr>\n",
       "  </tbody>\n",
       "</table>\n",
       "</div>"
      ],
      "text/plain": [
       "   index     Date    Year     Month  Customer Age Customer Gender  \\\n",
       "0      0  2/19/16  2016.0  February          29.0               F   \n",
       "1      1  2/20/16  2016.0  February          29.0               F   \n",
       "2      2  2/27/16  2016.0  February          29.0               F   \n",
       "3      3  3/12/16  2016.0     March          29.0               F   \n",
       "4      4  3/12/16  2016.0     March          29.0               F   \n",
       "\n",
       "         Country       State Product Category     Sub Category  Quantity  \\\n",
       "0  United States  Washington      Accessories  Tires and Tubes       1.0   \n",
       "1  United States  Washington         Clothing           Gloves       2.0   \n",
       "2  United States  Washington      Accessories  Tires and Tubes       3.0   \n",
       "3  United States  Washington      Accessories  Tires and Tubes       2.0   \n",
       "4  United States  Washington      Accessories  Tires and Tubes       3.0   \n",
       "\n",
       "   Unit Cost  Unit Price   Cost  Revenue  \n",
       "0      80.00  109.000000   80.0    109.0  \n",
       "1      24.50   28.500000   49.0     57.0  \n",
       "2       3.67    5.000000   11.0     15.0  \n",
       "3      87.50  116.500000  175.0    233.0  \n",
       "4      35.00   41.666667  105.0    125.0  "
      ]
     },
     "execution_count": 5,
     "metadata": {},
     "output_type": "execute_result"
    }
   ],
   "source": [
    "import pandas as pd\n",
    "import numpy as np\n",
    "import matplotlib.pyplot as plt\n",
    "import seaborn as sns\n",
    "\n",
    "path = '/Users/mac/Desktop/Project/upsale/SalesForCourse_quizz_table.csv'\n",
    "\n",
    "df = pd.read_csv(path)\n",
    "\n",
    "df.head()"
   ]
  },
  {
   "cell_type": "code",
   "execution_count": 6,
   "id": "01c1b7a4-2378-44d5-a048-4fdfd039b565",
   "metadata": {},
   "outputs": [
    {
     "data": {
      "text/plain": [
       "(34867, 15)"
      ]
     },
     "execution_count": 6,
     "metadata": {},
     "output_type": "execute_result"
    }
   ],
   "source": [
    "df.shape"
   ]
  },
  {
   "cell_type": "code",
   "execution_count": 7,
   "id": "e62fce5f-bedc-4e3f-a98e-89705ea4b39e",
   "metadata": {},
   "outputs": [
    {
     "name": "stdout",
     "output_type": "stream",
     "text": [
      "                   dtypes  unique  null\n",
      "index               int64   34867     0\n",
      "Date               object     576     1\n",
      "Year              float64       2     1\n",
      "Month              object      12     1\n",
      "Customer Age      float64      70     1\n",
      "Customer Gender    object       2     1\n",
      "Country            object       4     1\n",
      "State              object      45     1\n",
      "Product Category   object       3     1\n",
      "Sub Category       object      17     1\n",
      "Quantity          float64       3     1\n",
      "Unit Cost         float64     882     1\n",
      "Unit Price        float64    5175     1\n",
      "Cost              float64     417     1\n",
      "Revenue           float64    3023     0\n"
     ]
    }
   ],
   "source": [
    "df_infor = pd.DataFrame(df.dtypes,columns = ['dtypes'])\n",
    "df_infor['unique'] = df.nunique().values\n",
    "df_infor['null'] = df.isnull().sum().values\n",
    "print(df_infor)\n"
   ]
  },
  {
   "cell_type": "markdown",
   "id": "87bde320-a196-48b8-ae60-2be1ed84c141",
   "metadata": {},
   "source": [
    "## 2.2. Clean data"
   ]
  },
  {
   "cell_type": "code",
   "execution_count": 8,
   "id": "ddf557df-1b83-4248-87ed-6273554d9103",
   "metadata": {},
   "outputs": [],
   "source": [
    "df_cleaned = df.dropna()"
   ]
  },
  {
   "cell_type": "code",
   "execution_count": 9,
   "id": "0dfeb4e7-58d3-4c81-a061-c36bd3741f98",
   "metadata": {},
   "outputs": [
    {
     "name": "stdout",
     "output_type": "stream",
     "text": [
      "                   dtypes  unique  null\n",
      "index               int64   34866     0\n",
      "Date               object     576     0\n",
      "Year              float64       2     0\n",
      "Month              object      12     0\n",
      "Customer Age      float64      70     0\n",
      "Customer Gender    object       2     0\n",
      "Country            object       4     0\n",
      "State              object      45     0\n",
      "Product Category   object       3     0\n",
      "Sub Category       object      17     0\n",
      "Quantity          float64       3     0\n",
      "Unit Cost         float64     882     0\n",
      "Unit Price        float64    5175     0\n",
      "Cost              float64     417     0\n",
      "Revenue           float64    3022     0\n"
     ]
    }
   ],
   "source": [
    "df_infor = pd.DataFrame(df_cleaned.dtypes,columns = ['dtypes'])\n",
    "df_infor['unique'] = df_cleaned.nunique().values\n",
    "df_infor['null'] = df_cleaned.isnull().sum().values\n",
    "print(df_infor)"
   ]
  },
  {
   "cell_type": "code",
   "execution_count": 10,
   "id": "12d0193b-ce56-4261-8904-7d05f1d81445",
   "metadata": {},
   "outputs": [
    {
     "name": "stderr",
     "output_type": "stream",
     "text": [
      "/var/folders/h5/nmfc3kr55375y_h4_5k7n7nh0000gn/T/ipykernel_892/1770713889.py:2: SettingWithCopyWarning: \n",
      "A value is trying to be set on a copy of a slice from a DataFrame\n",
      "\n",
      "See the caveats in the documentation: https://pandas.pydata.org/pandas-docs/stable/user_guide/indexing.html#returning-a-view-versus-a-copy\n",
      "  df_cleaned.drop_duplicates(inplace = True)\n"
     ]
    }
   ],
   "source": [
    "# Removing duplicates\n",
    "df_cleaned.drop_duplicates(inplace = True)"
   ]
  },
  {
   "cell_type": "code",
   "execution_count": 11,
   "id": "a0436ea1-d131-4edb-9d48-ae150633b6e2",
   "metadata": {},
   "outputs": [
    {
     "name": "stderr",
     "output_type": "stream",
     "text": [
      "/var/folders/h5/nmfc3kr55375y_h4_5k7n7nh0000gn/T/ipykernel_892/501587441.py:1: SettingWithCopyWarning: \n",
      "A value is trying to be set on a copy of a slice from a DataFrame.\n",
      "Try using .loc[row_indexer,col_indexer] = value instead\n",
      "\n",
      "See the caveats in the documentation: https://pandas.pydata.org/pandas-docs/stable/user_guide/indexing.html#returning-a-view-versus-a-copy\n",
      "  df_cleaned.loc[:, 'Profit'] = df_cleaned['Revenue'] - df_cleaned['Cost']\n"
     ]
    }
   ],
   "source": [
    "df_cleaned.loc[:, 'Profit'] = df_cleaned['Revenue'] - df_cleaned['Cost']"
   ]
  },
  {
   "cell_type": "code",
   "execution_count": 12,
   "id": "df24ae16-16b5-41c6-aaad-d1cde3b53f94",
   "metadata": {},
   "outputs": [],
   "source": [
    "df_cleaned =  df_cleaned.drop(columns = ['Cost','Revenue','Year'],axis = 1)"
   ]
  },
  {
   "cell_type": "code",
   "execution_count": 13,
   "id": "00fa4510-2805-4a6b-800c-9a8082cc144e",
   "metadata": {},
   "outputs": [
    {
     "data": {
      "text/html": [
       "<div>\n",
       "<style scoped>\n",
       "    .dataframe tbody tr th:only-of-type {\n",
       "        vertical-align: middle;\n",
       "    }\n",
       "\n",
       "    .dataframe tbody tr th {\n",
       "        vertical-align: top;\n",
       "    }\n",
       "\n",
       "    .dataframe thead th {\n",
       "        text-align: right;\n",
       "    }\n",
       "</style>\n",
       "<table border=\"1\" class=\"dataframe\">\n",
       "  <thead>\n",
       "    <tr style=\"text-align: right;\">\n",
       "      <th></th>\n",
       "      <th>index</th>\n",
       "      <th>Date</th>\n",
       "      <th>Month</th>\n",
       "      <th>Customer Age</th>\n",
       "      <th>Customer Gender</th>\n",
       "      <th>Country</th>\n",
       "      <th>State</th>\n",
       "      <th>Product Category</th>\n",
       "      <th>Sub Category</th>\n",
       "      <th>Quantity</th>\n",
       "      <th>Unit Cost</th>\n",
       "      <th>Unit Price</th>\n",
       "      <th>Profit</th>\n",
       "    </tr>\n",
       "  </thead>\n",
       "  <tbody>\n",
       "    <tr>\n",
       "      <th>0</th>\n",
       "      <td>0</td>\n",
       "      <td>2/19/16</td>\n",
       "      <td>February</td>\n",
       "      <td>29.0</td>\n",
       "      <td>F</td>\n",
       "      <td>United States</td>\n",
       "      <td>Washington</td>\n",
       "      <td>Accessories</td>\n",
       "      <td>Tires and Tubes</td>\n",
       "      <td>1.0</td>\n",
       "      <td>80.00</td>\n",
       "      <td>109.000000</td>\n",
       "      <td>29.0</td>\n",
       "    </tr>\n",
       "    <tr>\n",
       "      <th>1</th>\n",
       "      <td>1</td>\n",
       "      <td>2/20/16</td>\n",
       "      <td>February</td>\n",
       "      <td>29.0</td>\n",
       "      <td>F</td>\n",
       "      <td>United States</td>\n",
       "      <td>Washington</td>\n",
       "      <td>Clothing</td>\n",
       "      <td>Gloves</td>\n",
       "      <td>2.0</td>\n",
       "      <td>24.50</td>\n",
       "      <td>28.500000</td>\n",
       "      <td>8.0</td>\n",
       "    </tr>\n",
       "    <tr>\n",
       "      <th>2</th>\n",
       "      <td>2</td>\n",
       "      <td>2/27/16</td>\n",
       "      <td>February</td>\n",
       "      <td>29.0</td>\n",
       "      <td>F</td>\n",
       "      <td>United States</td>\n",
       "      <td>Washington</td>\n",
       "      <td>Accessories</td>\n",
       "      <td>Tires and Tubes</td>\n",
       "      <td>3.0</td>\n",
       "      <td>3.67</td>\n",
       "      <td>5.000000</td>\n",
       "      <td>4.0</td>\n",
       "    </tr>\n",
       "    <tr>\n",
       "      <th>3</th>\n",
       "      <td>3</td>\n",
       "      <td>3/12/16</td>\n",
       "      <td>March</td>\n",
       "      <td>29.0</td>\n",
       "      <td>F</td>\n",
       "      <td>United States</td>\n",
       "      <td>Washington</td>\n",
       "      <td>Accessories</td>\n",
       "      <td>Tires and Tubes</td>\n",
       "      <td>2.0</td>\n",
       "      <td>87.50</td>\n",
       "      <td>116.500000</td>\n",
       "      <td>58.0</td>\n",
       "    </tr>\n",
       "    <tr>\n",
       "      <th>4</th>\n",
       "      <td>4</td>\n",
       "      <td>3/12/16</td>\n",
       "      <td>March</td>\n",
       "      <td>29.0</td>\n",
       "      <td>F</td>\n",
       "      <td>United States</td>\n",
       "      <td>Washington</td>\n",
       "      <td>Accessories</td>\n",
       "      <td>Tires and Tubes</td>\n",
       "      <td>3.0</td>\n",
       "      <td>35.00</td>\n",
       "      <td>41.666667</td>\n",
       "      <td>20.0</td>\n",
       "    </tr>\n",
       "    <tr>\n",
       "      <th>...</th>\n",
       "      <td>...</td>\n",
       "      <td>...</td>\n",
       "      <td>...</td>\n",
       "      <td>...</td>\n",
       "      <td>...</td>\n",
       "      <td>...</td>\n",
       "      <td>...</td>\n",
       "      <td>...</td>\n",
       "      <td>...</td>\n",
       "      <td>...</td>\n",
       "      <td>...</td>\n",
       "      <td>...</td>\n",
       "      <td>...</td>\n",
       "    </tr>\n",
       "    <tr>\n",
       "      <th>95</th>\n",
       "      <td>95</td>\n",
       "      <td>9/4/15</td>\n",
       "      <td>September</td>\n",
       "      <td>22.0</td>\n",
       "      <td>F</td>\n",
       "      <td>United States</td>\n",
       "      <td>Washington</td>\n",
       "      <td>Clothing</td>\n",
       "      <td>Jerseys</td>\n",
       "      <td>2.0</td>\n",
       "      <td>486.00</td>\n",
       "      <td>535.500000</td>\n",
       "      <td>99.0</td>\n",
       "    </tr>\n",
       "    <tr>\n",
       "      <th>96</th>\n",
       "      <td>96</td>\n",
       "      <td>9/6/15</td>\n",
       "      <td>September</td>\n",
       "      <td>22.0</td>\n",
       "      <td>F</td>\n",
       "      <td>United States</td>\n",
       "      <td>Washington</td>\n",
       "      <td>Accessories</td>\n",
       "      <td>Bottles and Cages</td>\n",
       "      <td>2.0</td>\n",
       "      <td>25.00</td>\n",
       "      <td>26.500000</td>\n",
       "      <td>3.0</td>\n",
       "    </tr>\n",
       "    <tr>\n",
       "      <th>97</th>\n",
       "      <td>97</td>\n",
       "      <td>10/22/15</td>\n",
       "      <td>October</td>\n",
       "      <td>22.0</td>\n",
       "      <td>F</td>\n",
       "      <td>United States</td>\n",
       "      <td>Washington</td>\n",
       "      <td>Accessories</td>\n",
       "      <td>Bottles and Cages</td>\n",
       "      <td>1.0</td>\n",
       "      <td>189.00</td>\n",
       "      <td>179.000000</td>\n",
       "      <td>-10.0</td>\n",
       "    </tr>\n",
       "    <tr>\n",
       "      <th>98</th>\n",
       "      <td>98</td>\n",
       "      <td>10/22/15</td>\n",
       "      <td>October</td>\n",
       "      <td>22.0</td>\n",
       "      <td>F</td>\n",
       "      <td>United States</td>\n",
       "      <td>Washington</td>\n",
       "      <td>Accessories</td>\n",
       "      <td>Bottles and Cages</td>\n",
       "      <td>3.0</td>\n",
       "      <td>6.67</td>\n",
       "      <td>7.000000</td>\n",
       "      <td>1.0</td>\n",
       "    </tr>\n",
       "    <tr>\n",
       "      <th>99</th>\n",
       "      <td>99</td>\n",
       "      <td>12/21/15</td>\n",
       "      <td>December</td>\n",
       "      <td>22.0</td>\n",
       "      <td>F</td>\n",
       "      <td>United States</td>\n",
       "      <td>Washington</td>\n",
       "      <td>Clothing</td>\n",
       "      <td>Jerseys</td>\n",
       "      <td>1.0</td>\n",
       "      <td>150.00</td>\n",
       "      <td>159.000000</td>\n",
       "      <td>9.0</td>\n",
       "    </tr>\n",
       "  </tbody>\n",
       "</table>\n",
       "<p>100 rows × 13 columns</p>\n",
       "</div>"
      ],
      "text/plain": [
       "    index      Date      Month  Customer Age Customer Gender        Country  \\\n",
       "0       0   2/19/16   February          29.0               F  United States   \n",
       "1       1   2/20/16   February          29.0               F  United States   \n",
       "2       2   2/27/16   February          29.0               F  United States   \n",
       "3       3   3/12/16      March          29.0               F  United States   \n",
       "4       4   3/12/16      March          29.0               F  United States   \n",
       "..    ...       ...        ...           ...             ...            ...   \n",
       "95     95    9/4/15  September          22.0               F  United States   \n",
       "96     96    9/6/15  September          22.0               F  United States   \n",
       "97     97  10/22/15    October          22.0               F  United States   \n",
       "98     98  10/22/15    October          22.0               F  United States   \n",
       "99     99  12/21/15   December          22.0               F  United States   \n",
       "\n",
       "         State Product Category       Sub Category  Quantity  Unit Cost  \\\n",
       "0   Washington      Accessories    Tires and Tubes       1.0      80.00   \n",
       "1   Washington         Clothing             Gloves       2.0      24.50   \n",
       "2   Washington      Accessories    Tires and Tubes       3.0       3.67   \n",
       "3   Washington      Accessories    Tires and Tubes       2.0      87.50   \n",
       "4   Washington      Accessories    Tires and Tubes       3.0      35.00   \n",
       "..         ...              ...                ...       ...        ...   \n",
       "95  Washington         Clothing            Jerseys       2.0     486.00   \n",
       "96  Washington      Accessories  Bottles and Cages       2.0      25.00   \n",
       "97  Washington      Accessories  Bottles and Cages       1.0     189.00   \n",
       "98  Washington      Accessories  Bottles and Cages       3.0       6.67   \n",
       "99  Washington         Clothing            Jerseys       1.0     150.00   \n",
       "\n",
       "    Unit Price  Profit  \n",
       "0   109.000000    29.0  \n",
       "1    28.500000     8.0  \n",
       "2     5.000000     4.0  \n",
       "3   116.500000    58.0  \n",
       "4    41.666667    20.0  \n",
       "..         ...     ...  \n",
       "95  535.500000    99.0  \n",
       "96   26.500000     3.0  \n",
       "97  179.000000   -10.0  \n",
       "98    7.000000     1.0  \n",
       "99  159.000000     9.0  \n",
       "\n",
       "[100 rows x 13 columns]"
      ]
     },
     "execution_count": 13,
     "metadata": {},
     "output_type": "execute_result"
    }
   ],
   "source": [
    "df_cleaned.head(100)"
   ]
  },
  {
   "cell_type": "code",
   "execution_count": 14,
   "id": "2b03e42e-ee92-4b9f-8617-2107a60a7b31",
   "metadata": {},
   "outputs": [
    {
     "name": "stdout",
     "output_type": "stream",
     "text": [
      "Ngày lớn nhất là: 9/9/15\n"
     ]
    }
   ],
   "source": [
    "df_cleaned =  df_cleaned.drop(columns = ['index'],axis = 1)\n",
    "\n",
    "max_date = df_cleaned['Date'].max()\n",
    "\n",
    "print(\"Ngày lớn nhất là:\", max_date)"
   ]
  },
  {
   "cell_type": "markdown",
   "id": "3e9ad954-6ae8-479f-bb72-dcfb68dcdf1e",
   "metadata": {},
   "source": [
    "# 3. EDA"
   ]
  },
  {
   "cell_type": "markdown",
   "id": "ac2397d2-448f-468e-b7cd-6fea9694144f",
   "metadata": {},
   "source": [
    "### 3.1. ANALYSIS RFM(RECENCY, FREQUENCY, MONETARY)"
   ]
  },
  {
   "cell_type": "code",
   "execution_count": 15,
   "id": "d96a70e0-0cb4-4b3d-b81e-9dfc0a283d7a",
   "metadata": {},
   "outputs": [
    {
     "name": "stdout",
     "output_type": "stream",
     "text": [
      "  Product Category  Recency  Frequency  MonetaryValue\n",
      "0      Accessories        1      22534      1378769.0\n",
      "1            Bikes       32       7093       337601.0\n",
      "2         Clothing        1       5239       545232.0\n"
     ]
    },
    {
     "name": "stderr",
     "output_type": "stream",
     "text": [
      "/var/folders/h5/nmfc3kr55375y_h4_5k7n7nh0000gn/T/ipykernel_892/1148452997.py:4: UserWarning: Could not infer format, so each element will be parsed individually, falling back to `dateutil`. To ensure parsing is consistent and as-expected, please specify a format.\n",
      "  df_cleaned['Date'] = pd.to_datetime(df_cleaned['Date'])\n"
     ]
    }
   ],
   "source": [
    "import pandas as pd\n",
    "\n",
    "# Giả sử df_cleaned đã được định nghĩa trước đó và cột 'Date' là kiểu datetime\n",
    "df_cleaned['Date'] = pd.to_datetime(df_cleaned['Date'])\n",
    "\n",
    "# Tính latest_date\n",
    "latest_date = df_cleaned['Date'].max() + pd.Timedelta(days=1)\n",
    "\n",
    "# Nhóm và tính toán RFM\n",
    "rfm = df_cleaned.groupby('Product Category').agg({\n",
    "    'Date': lambda x: (latest_date - x.max()).days,\n",
    "    'Quantity': 'count',\n",
    "    'Profit': 'sum'\n",
    "}).reset_index()\n",
    "\n",
    "# Đổi tên cột\n",
    "rfm.rename(columns={\n",
    "    'Date': 'Recency',\n",
    "    'Quantity': 'Frequency',\n",
    "    'Profit': 'MonetaryValue'\n",
    "}, inplace=True)\n",
    "\n",
    "print(rfm)"
   ]
  },
  {
   "cell_type": "markdown",
   "id": "cdb3ec86-01ef-42ca-ac79-db4dcdf26bf8",
   "metadata": {},
   "source": [
    "### 3.2. Data Standardization"
   ]
  },
  {
   "cell_type": "code",
   "execution_count": 18,
   "id": "776f191b-deb8-47d1-8f6f-c17c0096a15a",
   "metadata": {},
   "outputs": [
    {
     "data": {
      "text/plain": [
       "array([[-0.70710678,  1.40745812,  1.38888935],\n",
       "       [ 1.41421356, -0.58416219, -0.92518216],\n",
       "       [-0.70710678, -0.82329593, -0.46370718]])"
      ]
     },
     "execution_count": 18,
     "metadata": {},
     "output_type": "execute_result"
    }
   ],
   "source": [
    "from sklearn.preprocessing import StandardScaler\n",
    "scaler = StandardScaler()\n",
    "rfm_scaled = scaler.fit_transform(rfm[['Recency', 'Frequency', 'MonetaryValue']])\n",
    "\n",
    "rfm_scaled"
   ]
  },
  {
   "cell_type": "code",
   "execution_count": 19,
   "id": "545f5615-91f4-4faf-a0ef-4e1cadba0f78",
   "metadata": {},
   "outputs": [
    {
     "name": "stdout",
     "output_type": "stream",
     "text": [
      "(3, 3)\n"
     ]
    },
    {
     "data": {
      "image/png": "[encoded data removed]",
      "text/plain": [
       "<Figure size 800x600 with 1 Axes>"
      ]
     },
     "metadata": {},
     "output_type": "display_data"
    }
   ],
   "source": [
    "# phân cụm\n",
    "\n",
    "from sklearn.cluster import KMeans\n",
    "import matplotlib.pyplot as plt\n",
    "\n",
    "# Giả sử df_scaled là dữ liệu đã được chuẩn hóa\n",
    "# Kiểm tra kích thước của rfm_scaled\n",
    "print(rfm_scaled.shape)\n",
    "\n",
    "# Điều chỉnh số lượng cụm tối đa\n",
    "range_n_clusters = range(1, min(11, rfm_scaled.shape[0] + 1))\n",
    "inertias = []\n",
    "\n",
    "for n_clusters in range_n_clusters:\n",
    "    kmeans = KMeans(n_clusters=n_clusters, random_state=0)\n",
    "    kmeans.fit(rfm_scaled)\n",
    "    inertias.append(kmeans.inertia_)\n",
    "\n",
    "plt.figure(figsize=(8, 6))\n",
    "plt.plot(range_n_clusters, inertias, 'bx-')\n",
    "plt.xlabel('Number of clusters')\n",
    "plt.ylabel('Sum of squared distances (inertia)')\n",
    "plt.title('Elbow Method for optimal number of clusters')\n",
    "plt.show()"
   ]
  },
  {
   "cell_type": "code",
   "execution_count": 20,
   "id": "7f989fa6-b6ae-44bd-9eba-a1127ec1c3bd",
   "metadata": {},
   "outputs": [],
   "source": [
    "## Kmean cluster\n",
    "\n",
    "from sklearn.cluster import KMeans\n",
    "kmeans = KMeans(n_clusters = 3, random_state = 42)\n",
    "kmeans.fit(rfm_scaled)\n",
    "rfm['Cluster'] = kmeans.labels_"
   ]
  },
  {
   "cell_type": "code",
   "execution_count": 21,
   "id": "ed27802b-f1ea-4a86-96d0-138da89fabe1",
   "metadata": {},
   "outputs": [
    {
     "data": {
      "text/html": [
       "<div>\n",
       "<style scoped>\n",
       "    .dataframe tbody tr th:only-of-type {\n",
       "        vertical-align: middle;\n",
       "    }\n",
       "\n",
       "    .dataframe tbody tr th {\n",
       "        vertical-align: top;\n",
       "    }\n",
       "\n",
       "    .dataframe thead th {\n",
       "        text-align: right;\n",
       "    }\n",
       "</style>\n",
       "<table border=\"1\" class=\"dataframe\">\n",
       "  <thead>\n",
       "    <tr style=\"text-align: right;\">\n",
       "      <th></th>\n",
       "      <th>Date</th>\n",
       "      <th>Month</th>\n",
       "      <th>Customer Age</th>\n",
       "      <th>Customer Gender</th>\n",
       "      <th>Country</th>\n",
       "      <th>State</th>\n",
       "      <th>Product Category</th>\n",
       "      <th>Sub Category</th>\n",
       "      <th>Quantity</th>\n",
       "      <th>Unit Cost</th>\n",
       "      <th>Unit Price</th>\n",
       "      <th>Profit</th>\n",
       "    </tr>\n",
       "  </thead>\n",
       "  <tbody>\n",
       "    <tr>\n",
       "      <th>1</th>\n",
       "      <td>2016-02-20</td>\n",
       "      <td>February</td>\n",
       "      <td>29.0</td>\n",
       "      <td>F</td>\n",
       "      <td>United States</td>\n",
       "      <td>Washington</td>\n",
       "      <td>Clothing</td>\n",
       "      <td>Gloves</td>\n",
       "      <td>2.0</td>\n",
       "      <td>24.50</td>\n",
       "      <td>28.500000</td>\n",
       "      <td>8.0</td>\n",
       "    </tr>\n",
       "    <tr>\n",
       "      <th>57</th>\n",
       "      <td>2016-03-20</td>\n",
       "      <td>March</td>\n",
       "      <td>19.0</td>\n",
       "      <td>M</td>\n",
       "      <td>United States</td>\n",
       "      <td>California</td>\n",
       "      <td>Clothing</td>\n",
       "      <td>Jerseys</td>\n",
       "      <td>3.0</td>\n",
       "      <td>100.00</td>\n",
       "      <td>117.666667</td>\n",
       "      <td>53.0</td>\n",
       "    </tr>\n",
       "    <tr>\n",
       "      <th>58</th>\n",
       "      <td>2016-03-21</td>\n",
       "      <td>March</td>\n",
       "      <td>19.0</td>\n",
       "      <td>M</td>\n",
       "      <td>United States</td>\n",
       "      <td>California</td>\n",
       "      <td>Clothing</td>\n",
       "      <td>Jerseys</td>\n",
       "      <td>1.0</td>\n",
       "      <td>750.00</td>\n",
       "      <td>985.000000</td>\n",
       "      <td>235.0</td>\n",
       "    </tr>\n",
       "    <tr>\n",
       "      <th>59</th>\n",
       "      <td>2016-05-06</td>\n",
       "      <td>May</td>\n",
       "      <td>19.0</td>\n",
       "      <td>M</td>\n",
       "      <td>United States</td>\n",
       "      <td>California</td>\n",
       "      <td>Clothing</td>\n",
       "      <td>Jerseys</td>\n",
       "      <td>3.0</td>\n",
       "      <td>133.33</td>\n",
       "      <td>164.333333</td>\n",
       "      <td>93.0</td>\n",
       "    </tr>\n",
       "    <tr>\n",
       "      <th>61</th>\n",
       "      <td>2016-06-09</td>\n",
       "      <td>June</td>\n",
       "      <td>19.0</td>\n",
       "      <td>M</td>\n",
       "      <td>United States</td>\n",
       "      <td>California</td>\n",
       "      <td>Clothing</td>\n",
       "      <td>Jerseys</td>\n",
       "      <td>2.0</td>\n",
       "      <td>300.00</td>\n",
       "      <td>384.000000</td>\n",
       "      <td>168.0</td>\n",
       "    </tr>\n",
       "  </tbody>\n",
       "</table>\n",
       "</div>"
      ],
      "text/plain": [
       "         Date     Month  Customer Age Customer Gender        Country  \\\n",
       "1  2016-02-20  February          29.0               F  United States   \n",
       "57 2016-03-20     March          19.0               M  United States   \n",
       "58 2016-03-21     March          19.0               M  United States   \n",
       "59 2016-05-06       May          19.0               M  United States   \n",
       "61 2016-06-09      June          19.0               M  United States   \n",
       "\n",
       "         State Product Category Sub Category  Quantity  Unit Cost  Unit Price  \\\n",
       "1   Washington         Clothing       Gloves       2.0      24.50   28.500000   \n",
       "57  California         Clothing      Jerseys       3.0     100.00  117.666667   \n",
       "58  California         Clothing      Jerseys       1.0     750.00  985.000000   \n",
       "59  California         Clothing      Jerseys       3.0     133.33  164.333333   \n",
       "61  California         Clothing      Jerseys       2.0     300.00  384.000000   \n",
       "\n",
       "    Profit  \n",
       "1      8.0  \n",
       "57    53.0  \n",
       "58   235.0  \n",
       "59    93.0  \n",
       "61   168.0  "
      ]
     },
     "execution_count": 21,
     "metadata": {},
     "output_type": "execute_result"
    }
   ],
   "source": [
    "df_cleaned[df_cleaned['Product Category'] == 'Clothing'].head()"
   ]
  },
  {
   "cell_type": "code",
   "execution_count": 22,
   "id": "9bee22e6-bdec-44dc-807d-bc0d73965bb6",
   "metadata": {},
   "outputs": [
    {
     "data": {
      "text/html": [
       "<div>\n",
       "<style scoped>\n",
       "    .dataframe tbody tr th:only-of-type {\n",
       "        vertical-align: middle;\n",
       "    }\n",
       "\n",
       "    .dataframe tbody tr th {\n",
       "        vertical-align: top;\n",
       "    }\n",
       "\n",
       "    .dataframe thead th {\n",
       "        text-align: right;\n",
       "    }\n",
       "</style>\n",
       "<table border=\"1\" class=\"dataframe\">\n",
       "  <thead>\n",
       "    <tr style=\"text-align: right;\">\n",
       "      <th></th>\n",
       "      <th>Product Category</th>\n",
       "      <th>Recency</th>\n",
       "      <th>Frequency</th>\n",
       "      <th>MonetaryValue</th>\n",
       "      <th>Cluster</th>\n",
       "    </tr>\n",
       "  </thead>\n",
       "  <tbody>\n",
       "    <tr>\n",
       "      <th>0</th>\n",
       "      <td>Accessories</td>\n",
       "      <td>1</td>\n",
       "      <td>22534</td>\n",
       "      <td>1378769.0</td>\n",
       "      <td>1</td>\n",
       "    </tr>\n",
       "    <tr>\n",
       "      <th>1</th>\n",
       "      <td>Bikes</td>\n",
       "      <td>32</td>\n",
       "      <td>7093</td>\n",
       "      <td>337601.0</td>\n",
       "      <td>0</td>\n",
       "    </tr>\n",
       "    <tr>\n",
       "      <th>2</th>\n",
       "      <td>Clothing</td>\n",
       "      <td>1</td>\n",
       "      <td>5239</td>\n",
       "      <td>545232.0</td>\n",
       "      <td>2</td>\n",
       "    </tr>\n",
       "  </tbody>\n",
       "</table>\n",
       "</div>"
      ],
      "text/plain": [
       "  Product Category  Recency  Frequency  MonetaryValue  Cluster\n",
       "0      Accessories        1      22534      1378769.0        1\n",
       "1            Bikes       32       7093       337601.0        0\n",
       "2         Clothing        1       5239       545232.0        2"
      ]
     },
     "execution_count": 22,
     "metadata": {},
     "output_type": "execute_result"
    }
   ],
   "source": [
    "rfm.head()"
   ]
  },
  {
   "cell_type": "markdown",
   "id": "78cd094c-a07e-45f1-9a1f-9c6d6466c9d8",
   "metadata": {},
   "source": [
    "## Nhận xét\n",
    "\n",
    "1. Ở nhóm sản phẩm accessories được ưa chuộng nhất cách đây có 1 ngày có đơn hàng , tần suất đươc đặt là lớn 22534 và giá trị lợi nhuận mang lại cũng lớn . có thể thấy đây là sản phẩm chủ lực của công ty\n",
    "\n",
    "2. Ở nhóm Bikes cách đây 32 ngày có đơn được đặt và tần suất đặt cung cao chỉ sau Accessories nhưng so với sản phẩm này còn quá thấp, giá trị đem lại cũng thấp nhất trong 3 nhóm sản phẩm. có thể giá trị sản phẩm thấp hoặc số lượng đặt thấp. Cần gợi nhớ khách hàng order tiếp sản phẩm\n",
    "\n",
    "3. Ở nhóm Clothing cách đây 1 ngày có 1 đơn đặt, tần suất đặt là thấp nhất trong 3 nhóm sp nhưng giá trị lại cao hơn nhóm Bikes, khả năng số lượng đặt lớn. Cần có hoạt động kích thích dùng sp nay hơn, ví dụ như giảm giá hoặc ưu đãi gì đó"
   ]
  },
  {
   "cell_type": "code",
   "execution_count": 23,
   "id": "832bf37f-67ce-4672-b4d9-c82f1aa51855",
   "metadata": {},
   "outputs": [
    {
     "data": {
      "text/plain": [
       "(34866, 2)"
      ]
     },
     "execution_count": 23,
     "metadata": {},
     "output_type": "execute_result"
    }
   ],
   "source": [
    "age = df_cleaned[['Customer Age','Profit']]\n",
    "age.shape"
   ]
  },
  {
   "cell_type": "code",
   "execution_count": 28,
   "id": "7be33120-6f53-4937-825f-a5c991c7c2d5",
   "metadata": {},
   "outputs": [
    {
     "data": {
      "text/plain": [
       "array([[-0.66436297, -0.23460281],\n",
       "       [-0.66436297, -0.3719675 ],\n",
       "       [-0.66436297, -0.39813221],\n",
       "       ...,\n",
       "       [ 0.14551813, -3.47248479],\n",
       "       [ 0.14551813, -2.82490839],\n",
       "       [ 0.14551813, -5.34326104]])"
      ]
     },
     "execution_count": 28,
     "metadata": {},
     "output_type": "execute_result"
    }
   ],
   "source": [
    "from sklearn.preprocessing import StandardScaler\n",
    "scaler = StandardScaler()\n",
    "age_scaled = scaler.fit_transform(age)\n",
    "\n",
    "age_scaled"
   ]
  },
  {
   "cell_type": "code",
   "execution_count": 29,
   "id": "e1e2f896-0603-4b2c-aece-eb47792ac403",
   "metadata": {},
   "outputs": [
    {
     "name": "stdout",
     "output_type": "stream",
     "text": [
      "(34866, 2)\n"
     ]
    },
    {
     "data": {
      "image/png": "[encoded data removed]",
      "text/plain": [
       "<Figure size 800x600 with 1 Axes>"
      ]
     },
     "metadata": {},
     "output_type": "display_data"
    }
   ],
   "source": [
    "from sklearn.cluster import KMeans\n",
    "import matplotlib.pyplot as plt\n",
    "\n",
    "# Giả sử df_scaled là dữ liệu đã được chuẩn hóa\n",
    "# Kiểm tra kích thước của rfm_scaled\n",
    "print(age_scaled.shape)\n",
    "\n",
    "# Điều chỉnh số lượng cụm tối đa\n",
    "range_n_clusters = range(1, min(11, age_scaled.shape[0] + 1))\n",
    "inertias = []\n",
    "\n",
    "for n_clusters in range_n_clusters:\n",
    "    kmeans = KMeans(n_clusters=n_clusters, random_state=0)\n",
    "    kmeans.fit(age_scaled)\n",
    "    inertias.append(kmeans.inertia_)\n",
    "\n",
    "plt.figure(figsize=(8, 6))\n",
    "plt.plot(range_n_clusters, inertias, 'bx-')\n",
    "plt.xlabel('Number of clusters')\n",
    "plt.ylabel('Sum of squared distances (inertia)')\n",
    "plt.title('Elbow Method for optimal number of clusters')\n",
    "plt.show()"
   ]
  },
  {
   "cell_type": "code",
   "execution_count": 30,
   "id": "f84caa82-cbb6-4fae-b42d-1d4235be39e7",
   "metadata": {},
   "outputs": [
    {
     "name": "stderr",
     "output_type": "stream",
     "text": [
      "/var/folders/h5/nmfc3kr55375y_h4_5k7n7nh0000gn/T/ipykernel_892/934832306.py:6: SettingWithCopyWarning: \n",
      "A value is trying to be set on a copy of a slice from a DataFrame.\n",
      "Try using .loc[row_indexer,col_indexer] = value instead\n",
      "\n",
      "See the caveats in the documentation: https://pandas.pydata.org/pandas-docs/stable/user_guide/indexing.html#returning-a-view-versus-a-copy\n",
      "  age.loc[:, 'Cluster'] = kmeans.labels_\n"
     ]
    }
   ],
   "source": [
    "## Kmean cluster\n",
    "\n",
    "from sklearn.cluster import KMeans\n",
    "kmeans = KMeans(n_clusters = 3, random_state = 42)\n",
    "kmeans.fit(age_scaled)\n",
    "age.loc[:, 'Cluster'] = kmeans.labels_"
   ]
  },
  {
   "cell_type": "code",
   "execution_count": 31,
   "id": "dd0f9591-acf6-4cc9-aa2b-6c6db608f341",
   "metadata": {},
   "outputs": [
    {
     "data": {
      "text/html": [
       "<div>\n",
       "<style scoped>\n",
       "    .dataframe tbody tr th:only-of-type {\n",
       "        vertical-align: middle;\n",
       "    }\n",
       "\n",
       "    .dataframe tbody tr th {\n",
       "        vertical-align: top;\n",
       "    }\n",
       "\n",
       "    .dataframe thead th {\n",
       "        text-align: right;\n",
       "    }\n",
       "</style>\n",
       "<table border=\"1\" class=\"dataframe\">\n",
       "  <thead>\n",
       "    <tr style=\"text-align: right;\">\n",
       "      <th></th>\n",
       "      <th>Customer Age</th>\n",
       "      <th>Profit</th>\n",
       "      <th>Cluster</th>\n",
       "    </tr>\n",
       "  </thead>\n",
       "  <tbody>\n",
       "    <tr>\n",
       "      <th>0</th>\n",
       "      <td>29.0</td>\n",
       "      <td>29.0</td>\n",
       "      <td>0</td>\n",
       "    </tr>\n",
       "    <tr>\n",
       "      <th>1</th>\n",
       "      <td>29.0</td>\n",
       "      <td>8.0</td>\n",
       "      <td>0</td>\n",
       "    </tr>\n",
       "    <tr>\n",
       "      <th>2</th>\n",
       "      <td>29.0</td>\n",
       "      <td>4.0</td>\n",
       "      <td>0</td>\n",
       "    </tr>\n",
       "    <tr>\n",
       "      <th>3</th>\n",
       "      <td>29.0</td>\n",
       "      <td>58.0</td>\n",
       "      <td>0</td>\n",
       "    </tr>\n",
       "    <tr>\n",
       "      <th>4</th>\n",
       "      <td>29.0</td>\n",
       "      <td>20.0</td>\n",
       "      <td>0</td>\n",
       "    </tr>\n",
       "  </tbody>\n",
       "</table>\n",
       "</div>"
      ],
      "text/plain": [
       "   Customer Age  Profit  Cluster\n",
       "0          29.0    29.0        0\n",
       "1          29.0     8.0        0\n",
       "2          29.0     4.0        0\n",
       "3          29.0    58.0        0\n",
       "4          29.0    20.0        0"
      ]
     },
     "execution_count": 31,
     "metadata": {},
     "output_type": "execute_result"
    }
   ],
   "source": [
    "age.head()"
   ]
  },
  {
   "cell_type": "code",
   "execution_count": 32,
   "id": "92e63926-d0d8-4fb8-a2aa-450ff637628c",
   "metadata": {},
   "outputs": [
    {
     "data": {
      "text/plain": [
       "Cluster\n",
       "0    18004\n",
       "1    13255\n",
       "2     3607\n",
       "Name: count, dtype: int64"
      ]
     },
     "execution_count": 32,
     "metadata": {},
     "output_type": "execute_result"
    }
   ],
   "source": [
    "age['Cluster'].value_counts()\n"
   ]
  },
  {
   "cell_type": "code",
   "execution_count": 33,
   "id": "9fb79df5-8f4c-4c5d-ac64-253850791578",
   "metadata": {
    "scrolled": true
   },
   "outputs": [
    {
     "data": {
      "text/html": [
       "<div>\n",
       "<style scoped>\n",
       "    .dataframe tbody tr th:only-of-type {\n",
       "        vertical-align: middle;\n",
       "    }\n",
       "\n",
       "    .dataframe tbody tr th {\n",
       "        vertical-align: top;\n",
       "    }\n",
       "\n",
       "    .dataframe thead th {\n",
       "        text-align: right;\n",
       "    }\n",
       "</style>\n",
       "<table border=\"1\" class=\"dataframe\">\n",
       "  <thead>\n",
       "    <tr style=\"text-align: right;\">\n",
       "      <th></th>\n",
       "      <th>Customer Age</th>\n",
       "      <th>Profit</th>\n",
       "    </tr>\n",
       "    <tr>\n",
       "      <th>Cluster</th>\n",
       "      <th></th>\n",
       "      <th></th>\n",
       "    </tr>\n",
       "  </thead>\n",
       "  <tbody>\n",
       "    <tr>\n",
       "      <th>0</th>\n",
       "      <td>29.0</td>\n",
       "      <td>20.0</td>\n",
       "    </tr>\n",
       "    <tr>\n",
       "      <th>1</th>\n",
       "      <td>46.0</td>\n",
       "      <td>22.0</td>\n",
       "    </tr>\n",
       "    <tr>\n",
       "      <th>2</th>\n",
       "      <td>35.0</td>\n",
       "      <td>334.0</td>\n",
       "    </tr>\n",
       "  </tbody>\n",
       "</table>\n",
       "</div>"
      ],
      "text/plain": [
       "         Customer Age  Profit\n",
       "Cluster                      \n",
       "0                29.0    20.0\n",
       "1                46.0    22.0\n",
       "2                35.0   334.0"
      ]
     },
     "execution_count": 33,
     "metadata": {},
     "output_type": "execute_result"
    }
   ],
   "source": [
    "age.groupby('Cluster').agg(\n",
    "    {\n",
    "        'Customer Age': 'median',\n",
    "        'Profit': 'median'        \n",
    "    }\n",
    ").round(2)"
   ]
  },
  {
   "cell_type": "markdown",
   "id": "71f24ca2-6669-4ced-a485-ba129cab4efd",
   "metadata": {},
   "source": [
    "## Nhận xét "
   ]
  },
  {
   "cell_type": "markdown",
   "id": "e5a5fa9c-9717-4757-8ace-858b71f8bed0",
   "metadata": {},
   "source": [
    "1. Nhóm O đặc điểm là nhóm tuổi dao động 29 và lợi nhuận mang lạị cho công cty là 20 triệu. Đây là độ tuổi sau khi đi làm và đang trong độ tuổi chuẩn bị khởi nghiệm và muốn chứng tỏ bản thân và hạn chế chi tiêu, nên tập trung vào giá trị sản phẩm cốt lõi của độ tuổi này vị dụ như chi tiêu có hoàn lại, sản phẩm có nhiều ưu đãi\n",
    "\n",
    "2. Nhóm 1 đặc điểm là nhóm tuổi dao động 46 tuổi và lợi nhuận mang lại cho công ty là 22 triệu. Đây là độ tuổi có vị trí đứng trong ngành nghề, nên tập trung vào giá trị như nổi bật tên tuổi hoặc cá nhân hoá\n",
    "\n",
    "3. Nhóm 2 đặc điểm là nhóm tuổi dao động 35 tuổi và lợi nhuận mang lại cho cômg ty là 334 triệu. Đây là độ tuổi đang trong độ chín trong sự nghiệp cũng như chi tiêu nhiều dành cho gia và và con cái. Nên tập trung nhiều vào dòng sản phẩm gia đình và con cái"
   ]
  },
  {
   "cell_type": "code",
   "execution_count": 34,
   "id": "bf75ac2e-ff62-41ef-bd16-3269c3f20690",
   "metadata": {},
   "outputs": [],
   "source": [
    "df_cleaned.loc[:, 'Cluster'] = kmeans.labels_"
   ]
  },
  {
   "cell_type": "code",
   "execution_count": 35,
   "id": "5e03999c-76a5-4f00-8247-a949a219767d",
   "metadata": {},
   "outputs": [
    {
     "data": {
      "text/html": [
       "<div>\n",
       "<style scoped>\n",
       "    .dataframe tbody tr th:only-of-type {\n",
       "        vertical-align: middle;\n",
       "    }\n",
       "\n",
       "    .dataframe tbody tr th {\n",
       "        vertical-align: top;\n",
       "    }\n",
       "\n",
       "    .dataframe thead th {\n",
       "        text-align: right;\n",
       "    }\n",
       "</style>\n",
       "<table border=\"1\" class=\"dataframe\">\n",
       "  <thead>\n",
       "    <tr style=\"text-align: right;\">\n",
       "      <th></th>\n",
       "      <th>Customer Age</th>\n",
       "      <th>Profit</th>\n",
       "    </tr>\n",
       "    <tr>\n",
       "      <th>Cluster</th>\n",
       "      <th></th>\n",
       "      <th></th>\n",
       "    </tr>\n",
       "  </thead>\n",
       "  <tbody>\n",
       "    <tr>\n",
       "      <th>0</th>\n",
       "      <td>29.0</td>\n",
       "      <td>20.0</td>\n",
       "    </tr>\n",
       "    <tr>\n",
       "      <th>1</th>\n",
       "      <td>46.0</td>\n",
       "      <td>22.0</td>\n",
       "    </tr>\n",
       "    <tr>\n",
       "      <th>2</th>\n",
       "      <td>35.0</td>\n",
       "      <td>334.0</td>\n",
       "    </tr>\n",
       "  </tbody>\n",
       "</table>\n",
       "</div>"
      ],
      "text/plain": [
       "         Customer Age  Profit\n",
       "Cluster                      \n",
       "0                29.0    20.0\n",
       "1                46.0    22.0\n",
       "2                35.0   334.0"
      ]
     },
     "execution_count": 35,
     "metadata": {},
     "output_type": "execute_result"
    }
   ],
   "source": [
    "df_cleaned.groupby('Cluster').agg(\n",
    "    {\n",
    "        'Customer Age': 'median',\n",
    "        'Profit': 'median'        \n",
    "    }\n",
    ").round(2)"
   ]
  },
  {
   "cell_type": "code",
   "execution_count": 43,
   "id": "1cd4b43a-cd2b-4d76-b8c8-b677d0897047",
   "metadata": {},
   "outputs": [
    {
     "data": {
      "text/html": [
       "<div>\n",
       "<style scoped>\n",
       "    .dataframe tbody tr th:only-of-type {\n",
       "        vertical-align: middle;\n",
       "    }\n",
       "\n",
       "    .dataframe tbody tr th {\n",
       "        vertical-align: top;\n",
       "    }\n",
       "\n",
       "    .dataframe thead th {\n",
       "        text-align: right;\n",
       "    }\n",
       "</style>\n",
       "<table border=\"1\" class=\"dataframe\">\n",
       "  <thead>\n",
       "    <tr style=\"text-align: right;\">\n",
       "      <th></th>\n",
       "      <th>Date</th>\n",
       "      <th>Month</th>\n",
       "      <th>Customer Age</th>\n",
       "      <th>Customer Gender</th>\n",
       "      <th>Country</th>\n",
       "      <th>State</th>\n",
       "      <th>Product Category</th>\n",
       "      <th>Sub Category</th>\n",
       "      <th>Quantity</th>\n",
       "      <th>Unit Cost</th>\n",
       "      <th>Unit Price</th>\n",
       "      <th>Profit</th>\n",
       "      <th>Cluster</th>\n",
       "    </tr>\n",
       "  </thead>\n",
       "  <tbody>\n",
       "    <tr>\n",
       "      <th>0</th>\n",
       "      <td>2016-02-19</td>\n",
       "      <td>February</td>\n",
       "      <td>29.0</td>\n",
       "      <td>F</td>\n",
       "      <td>United States</td>\n",
       "      <td>Washington</td>\n",
       "      <td>Accessories</td>\n",
       "      <td>Tires and Tubes</td>\n",
       "      <td>1.0</td>\n",
       "      <td>80.00</td>\n",
       "      <td>109.000000</td>\n",
       "      <td>29.0</td>\n",
       "      <td>0</td>\n",
       "    </tr>\n",
       "    <tr>\n",
       "      <th>1</th>\n",
       "      <td>2016-02-20</td>\n",
       "      <td>February</td>\n",
       "      <td>29.0</td>\n",
       "      <td>F</td>\n",
       "      <td>United States</td>\n",
       "      <td>Washington</td>\n",
       "      <td>Clothing</td>\n",
       "      <td>Gloves</td>\n",
       "      <td>2.0</td>\n",
       "      <td>24.50</td>\n",
       "      <td>28.500000</td>\n",
       "      <td>8.0</td>\n",
       "      <td>0</td>\n",
       "    </tr>\n",
       "    <tr>\n",
       "      <th>2</th>\n",
       "      <td>2016-02-27</td>\n",
       "      <td>February</td>\n",
       "      <td>29.0</td>\n",
       "      <td>F</td>\n",
       "      <td>United States</td>\n",
       "      <td>Washington</td>\n",
       "      <td>Accessories</td>\n",
       "      <td>Tires and Tubes</td>\n",
       "      <td>3.0</td>\n",
       "      <td>3.67</td>\n",
       "      <td>5.000000</td>\n",
       "      <td>4.0</td>\n",
       "      <td>0</td>\n",
       "    </tr>\n",
       "    <tr>\n",
       "      <th>3</th>\n",
       "      <td>2016-03-12</td>\n",
       "      <td>March</td>\n",
       "      <td>29.0</td>\n",
       "      <td>F</td>\n",
       "      <td>United States</td>\n",
       "      <td>Washington</td>\n",
       "      <td>Accessories</td>\n",
       "      <td>Tires and Tubes</td>\n",
       "      <td>2.0</td>\n",
       "      <td>87.50</td>\n",
       "      <td>116.500000</td>\n",
       "      <td>58.0</td>\n",
       "      <td>0</td>\n",
       "    </tr>\n",
       "    <tr>\n",
       "      <th>4</th>\n",
       "      <td>2016-03-12</td>\n",
       "      <td>March</td>\n",
       "      <td>29.0</td>\n",
       "      <td>F</td>\n",
       "      <td>United States</td>\n",
       "      <td>Washington</td>\n",
       "      <td>Accessories</td>\n",
       "      <td>Tires and Tubes</td>\n",
       "      <td>3.0</td>\n",
       "      <td>35.00</td>\n",
       "      <td>41.666667</td>\n",
       "      <td>20.0</td>\n",
       "      <td>0</td>\n",
       "    </tr>\n",
       "  </tbody>\n",
       "</table>\n",
       "</div>"
      ],
      "text/plain": [
       "        Date     Month  Customer Age Customer Gender        Country  \\\n",
       "0 2016-02-19  February          29.0               F  United States   \n",
       "1 2016-02-20  February          29.0               F  United States   \n",
       "2 2016-02-27  February          29.0               F  United States   \n",
       "3 2016-03-12     March          29.0               F  United States   \n",
       "4 2016-03-12     March          29.0               F  United States   \n",
       "\n",
       "        State Product Category     Sub Category  Quantity  Unit Cost  \\\n",
       "0  Washington      Accessories  Tires and Tubes       1.0      80.00   \n",
       "1  Washington         Clothing           Gloves       2.0      24.50   \n",
       "2  Washington      Accessories  Tires and Tubes       3.0       3.67   \n",
       "3  Washington      Accessories  Tires and Tubes       2.0      87.50   \n",
       "4  Washington      Accessories  Tires and Tubes       3.0      35.00   \n",
       "\n",
       "   Unit Price  Profit  Cluster  \n",
       "0  109.000000    29.0        0  \n",
       "1   28.500000     8.0        0  \n",
       "2    5.000000     4.0        0  \n",
       "3  116.500000    58.0        0  \n",
       "4   41.666667    20.0        0  "
      ]
     },
     "execution_count": 43,
     "metadata": {},
     "output_type": "execute_result"
    }
   ],
   "source": [
    "df_cleaned.head()"
   ]
  },
  {
   "cell_type": "markdown",
   "id": "8c37e83d-4bf1-4e14-b573-9e8998e333f1",
   "metadata": {},
   "source": [
    "# 4.  Model "
   ]
  },
  {
   "cell_type": "markdown",
   "id": "8ea1858f",
   "metadata": {},
   "source": [
    "## Mô  hình  Logistic Regression"
   ]
  },
  {
   "cell_type": "code",
   "execution_count": 60,
   "id": "0e6bed4b",
   "metadata": {},
   "outputs": [
    {
     "name": "stderr",
     "output_type": "stream",
     "text": [
      "/Library/Frameworks/Python.framework/Versions/3.12/lib/python3.12/site-packages/sklearn/linear_model/_logistic.py:1247: FutureWarning: 'multi_class' was deprecated in version 1.5 and will be removed in 1.7. From then on, it will always use 'multinomial'. Leave it to its default value to avoid this warning.\n",
      "  warnings.warn(\n"
     ]
    },
    {
     "name": "stdout",
     "output_type": "stream",
     "text": [
      "Accuracy: 0.9975623745339833\n",
      "Confusion Matrix:\n",
      "[[3584   14    3]\n",
      " [   0 2673    0]\n",
      " [   0    0  700]]\n",
      "Classification Report:\n",
      "              precision    recall  f1-score   support\n",
      "\n",
      "           0       1.00      1.00      1.00      3601\n",
      "           1       0.99      1.00      1.00      2673\n",
      "           2       1.00      1.00      1.00       700\n",
      "\n",
      "    accuracy                           1.00      6974\n",
      "   macro avg       1.00      1.00      1.00      6974\n",
      "weighted avg       1.00      1.00      1.00      6974\n",
      "\n"
     ]
    },
    {
     "data": {
      "image/png": "[encoded data removed]",
      "text/plain": [
       "<Figure size 640x480 with 1 Axes>"
      ]
     },
     "metadata": {},
     "output_type": "display_data"
    }
   ],
   "source": [
    "from sklearn.linear_model import LogisticRegression\n",
    "from sklearn.metrics import accuracy_score, confusion_matrix, classification_report\n",
    "\n",
    "# Chia tách dữ liệu thành tập huấn luyện và kiểm tra\n",
    "X_train, X_test, y_train, y_test = train_test_split(X, y, test_size=0.2, random_state=42)\n",
    "\n",
    "# Tạo mô hình Logistic Regression\n",
    "model = LogisticRegression(multi_class='multinomial', solver='lbfgs')\n",
    "\n",
    "# Huấn luyện mô hình\n",
    "model.fit(X_train, y_train)\n",
    "\n",
    "# Dự đoán\n",
    "y_pred = model.predict(X_test)\n",
    "\n",
    "# Đánh giá mô hình\n",
    "accuracy = accuracy_score(y_test, y_pred)\n",
    "conf_matrix = confusion_matrix(y_test, y_pred)\n",
    "class_report = classification_report(y_test, y_pred)\n",
    "\n",
    "print(f'Accuracy: {accuracy}')\n",
    "print('Confusion Matrix:')\n",
    "print(conf_matrix)\n",
    "print('Classification Report:')\n",
    "print(class_report)\n",
    "\n",
    "# Vẽ biểu đồ\n",
    "plt.scatter(X['Customer Age'], y, color='blue', label='Actual Data')  # Dữ liệu thực tế\n",
    "plt.scatter(X_test['Customer Age'], y_pred, color='red', label='Predicted Data')  # Dữ liệu dự đoán\n",
    "plt.xlabel('Customer Age')\n",
    "plt.ylabel('Cluster')\n",
    "plt.title('Logistic Regression Example')\n",
    "plt.legend()\n",
    "plt.show()"
   ]
  },
  {
   "cell_type": "markdown",
   "id": "ceef3648",
   "metadata": {},
   "source": [
    "## Mô hình Decision  tree"
   ]
  },
  {
   "cell_type": "markdown",
   "id": "f8d29445",
   "metadata": {},
   "source": []
  },
  {
   "cell_type": "code",
   "execution_count": 61,
   "id": "20e73a4d",
   "metadata": {},
   "outputs": [
    {
     "name": "stdout",
     "output_type": "stream",
     "text": [
      "Accuracy: 0.9991396616002294\n",
      "Confusion Matrix:\n",
      "[[3598    0    3]\n",
      " [   0 2671    2]\n",
      " [   1    0  699]]\n",
      "Classification Report:\n",
      "              precision    recall  f1-score   support\n",
      "\n",
      "           0       1.00      1.00      1.00      3601\n",
      "           1       1.00      1.00      1.00      2673\n",
      "           2       0.99      1.00      1.00       700\n",
      "\n",
      "    accuracy                           1.00      6974\n",
      "   macro avg       1.00      1.00      1.00      6974\n",
      "weighted avg       1.00      1.00      1.00      6974\n",
      "\n"
     ]
    },
    {
     "data": {
      "image/png": "[encoded data removed]",
      "text/plain": [
       "<Figure size 640x480 with 1 Axes>"
      ]
     },
     "metadata": {},
     "output_type": "display_data"
    },
    {
     "data": {
      "image/png": "[encoded data removed]",
      "text/plain": [
       "<Figure size 1000x600 with 1 Axes>"
      ]
     },
     "metadata": {},
     "output_type": "display_data"
    }
   ],
   "source": [
    "from sklearn.tree import DecisionTreeClassifier\n",
    "from sklearn.metrics import accuracy_score, confusion_matrix, classification_report\n",
    "from sklearn import tree\n",
    "\n",
    "# Chia tách dữ liệu thành tập huấn luyện và kiểm tra\n",
    "X_train, X_test, y_train, y_test = train_test_split(X, y, test_size=0.2, random_state=42)\n",
    "\n",
    "# Tạo mô hình Decision Tree\n",
    "model = DecisionTreeClassifier()\n",
    "\n",
    "# Huấn luyện mô hình\n",
    "model.fit(X_train, y_train)\n",
    "\n",
    "# Dự đoán\n",
    "y_pred = model.predict(X_test)\n",
    "\n",
    "# Đánh giá mô hình\n",
    "accuracy = accuracy_score(y_test, y_pred)\n",
    "conf_matrix = confusion_matrix(y_test, y_pred)\n",
    "class_report = classification_report(y_test, y_pred)\n",
    "\n",
    "print(f'Accuracy: {accuracy}')\n",
    "print('Confusion Matrix:')\n",
    "print(conf_matrix)\n",
    "print('Classification Report:')\n",
    "print(class_report)\n",
    "\n",
    "# Vẽ biểu đồ\n",
    "plt.scatter(X['Customer Age'], y, color='blue', label='Actual Data')  # Dữ liệu thực tế\n",
    "plt.scatter(X_test['Customer Age'], y_pred, color='red', label='Predicted Data')  # Dữ liệu dự đoán\n",
    "plt.xlabel('Customer Age')\n",
    "plt.ylabel('Cluster')\n",
    "plt.title('Decision Tree Example')\n",
    "plt.legend()\n",
    "plt.show()\n",
    "\n",
    "# Vẽ cây quyết định\n",
    "plt.figure(figsize=(10, 6))\n",
    "tree.plot_tree(model, feature_names=['Customer Age', 'Profit'], class_names=['0', '1', '2'], filled=True)\n",
    "plt.title('Decision Tree Visualization')\n",
    "plt.show()"
   ]
  },
  {
   "cell_type": "markdown",
   "id": "6058a546",
   "metadata": {},
   "source": [
    "## Mô hình Random Forestt"
   ]
  },
  {
   "cell_type": "code",
   "execution_count": 62,
   "id": "bb07ab26",
   "metadata": {},
   "outputs": [
    {
     "name": "stdout",
     "output_type": "stream",
     "text": [
      "Accuracy: 0.9992830513335246\n",
      "Confusion Matrix:\n",
      "[[3599    0    2]\n",
      " [   0 2671    2]\n",
      " [   1    0  699]]\n",
      "Classification Report:\n",
      "              precision    recall  f1-score   support\n",
      "\n",
      "           0       1.00      1.00      1.00      3601\n",
      "           1       1.00      1.00      1.00      2673\n",
      "           2       0.99      1.00      1.00       700\n",
      "\n",
      "    accuracy                           1.00      6974\n",
      "   macro avg       1.00      1.00      1.00      6974\n",
      "weighted avg       1.00      1.00      1.00      6974\n",
      "\n"
     ]
    },
    {
     "data": {
      "image/png": "[encoded data removed]",
      "text/plain": [
       "<Figure size 640x480 with 1 Axes>"
      ]
     },
     "metadata": {},
     "output_type": "display_data"
    }
   ],
   "source": [
    "from sklearn.ensemble import RandomForestClassifier\n",
    "\n",
    "# Chia tách dữ liệu thành tập huấn luyện và kiểm tra\n",
    "X_train, X_test, y_train, y_test = train_test_split(X, y, test_size=0.2, random_state=42)\n",
    "\n",
    "# Tạo mô hình Random Forest\n",
    "model = RandomForestClassifier(n_estimators=100, random_state=42)\n",
    "\n",
    "# Huấn luyện mô hình\n",
    "model.fit(X_train, y_train)\n",
    "\n",
    "# Dự đoán\n",
    "y_pred = model.predict(X_test)\n",
    "\n",
    "# Đánh giá mô hình\n",
    "accuracy = accuracy_score(y_test, y_pred)\n",
    "conf_matrix = confusion_matrix(y_test, y_pred)\n",
    "class_report = classification_report(y_test, y_pred)\n",
    "\n",
    "print(f'Accuracy: {accuracy}')\n",
    "print('Confusion Matrix:')\n",
    "print(conf_matrix)\n",
    "print('Classification Report:')\n",
    "print(class_report)\n",
    "\n",
    "# Vẽ biểu đồ\n",
    "plt.scatter(X['Customer Age'], y, color='blue', label='Actual Data')  # Dữ liệu thực tế\n",
    "plt.scatter(X_test['Customer Age'], y_pred, color='red', label='Predicted Data')  # Dữ liệu dự đoán\n",
    "plt.xlabel('Customer Age')\n",
    "plt.ylabel('Cluster')\n",
    "plt.title('Random Forest Example')\n",
    "plt.legend()\n",
    "plt.show()"
   ]
  },
  {
   "cell_type": "markdown",
   "id": "b0112c55",
   "metadata": {},
   "source": [
    "## Mô  hình Support Vector Machines (SVM)"
   ]
  },
  {
   "cell_type": "code",
   "execution_count": 63,
   "id": "aa5571c2",
   "metadata": {},
   "outputs": [
    {
     "name": "stdout",
     "output_type": "stream",
     "text": [
      "Accuracy: 0.998422712933754\n",
      "Confusion Matrix:\n",
      "[[3590   11    0]\n",
      " [   0 2673    0]\n",
      " [   0    0  700]]\n",
      "Classification Report:\n",
      "              precision    recall  f1-score   support\n",
      "\n",
      "           0       1.00      1.00      1.00      3601\n",
      "           1       1.00      1.00      1.00      2673\n",
      "           2       1.00      1.00      1.00       700\n",
      "\n",
      "    accuracy                           1.00      6974\n",
      "   macro avg       1.00      1.00      1.00      6974\n",
      "weighted avg       1.00      1.00      1.00      6974\n",
      "\n"
     ]
    },
    {
     "data": {
      "image/png": "[encoded data removed]",
      "text/plain": [
       "<Figure size 640x480 with 1 Axes>"
      ]
     },
     "metadata": {},
     "output_type": "display_data"
    }
   ],
   "source": [
    "from sklearn.svm import SVC\n",
    "\n",
    "# Chia tách dữ liệu thành tập huấn luyện và kiểm tra\n",
    "X_train, X_test, y_train, y_test = train_test_split(X, y, test_size=0.2, random_state=42)\n",
    "\n",
    "# Tạo mô hình Support Vector Machine\n",
    "model = SVC(kernel='linear', random_state=42)\n",
    "\n",
    "# Huấn luyện mô hình\n",
    "model.fit(X_train, y_train)\n",
    "\n",
    "# Dự đoán\n",
    "y_pred = model.predict(X_test)\n",
    "\n",
    "# Đánh giá mô hình\n",
    "accuracy = accuracy_score(y_test, y_pred)\n",
    "conf_matrix = confusion_matrix(y_test, y_pred)\n",
    "class_report = classification_report(y_test, y_pred)\n",
    "\n",
    "print(f'Accuracy: {accuracy}')\n",
    "print('Confusion Matrix:')\n",
    "print(conf_matrix)\n",
    "print('Classification Report:')\n",
    "print(class_report)\n",
    "\n",
    "# Vẽ biểu đồ\n",
    "plt.scatter(X['Customer Age'], y, color='blue', label='Actual Data')  # Dữ liệu thực tế\n",
    "plt.scatter(X_test['Customer Age'], y_pred, color='red', label='Predicted Data')  # Dữ liệu dự đoán\n",
    "plt.xlabel('Customer Age')\n",
    "plt.ylabel('Cluster')\n",
    "plt.title('Support Vector Machine Example')\n",
    "plt.legend()\n",
    "plt.show()"
   ]
  },
  {
   "cell_type": "markdown",
   "id": "5d281448",
   "metadata": {},
   "source": [
    "## 5.Save  mô  hình"
   ]
  },
  {
   "cell_type": "code",
   "execution_count": 66,
   "id": "3d3dfa94",
   "metadata": {},
   "outputs": [
    {
     "name": "stdout",
     "output_type": "stream",
     "text": [
      "Predictions from loaded model: [0 0 0 ... 1 1 0]\n"
     ]
    }
   ],
   "source": [
    "import warnings\n",
    "warnings.simplefilter(action='ignore', category=FutureWarning)\n",
    "import joblib\n",
    "\n",
    "\n",
    "\n",
    "# Lưu mô hình\n",
    "joblib.dump(model, 'upsale.joblib')\n",
    "\n",
    "# Tải lại mô hình\n",
    "loaded_model = joblib.load('upsale.joblib')\n",
    "\n",
    "# Kiểm tra mô hình đã tải lại\n",
    "y_pred_loaded = loaded_model.predict(X_test)\n",
    "print(f'Predictions from loaded model: {y_pred_loaded}')"
   ]
  },
  {
   "cell_type": "code",
   "execution_count": null,
   "id": "18ecede3",
   "metadata": {},
   "outputs": [],
   "source": []
  }
 ],
 "metadata": {
  "kernelspec": {
   "display_name": "Python 3 (ipykernel)",
   "language": "python",
   "name": "python3"
  },
  "language_info": {
   "codemirror_mode": {
    "name": "ipython",
    "version": 3
   },
   "file_extension": ".py",
   "mimetype": "text/x-python",
   "name": "python",
   "nbconvert_exporter": "python",
   "pygments_lexer": "ipython3",
   "version": "3.12.5"
  }
 },
 "nbformat": 4,
 "nbformat_minor": 5
}
